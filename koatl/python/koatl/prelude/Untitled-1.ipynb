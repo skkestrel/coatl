{
	"cells": [
		{
			"cell_type": "code",
			"execution_count": null,
			"id": "75e5be41",
			"metadata": {},
			"outputs": [
				{
					"ename": "TypeError",
					"evalue": "'int' object is not an iterator",
					"output_type": "error",
					"traceback": [
						"\u001b[0;31m---------------------------------------------------------------------------\u001b[0m",
						"\u001b[0;31mTypeError\u001b[0m                                 Traceback (most recent call last)",
						"Cell \u001b[0;32mIn[6], line 3\u001b[0m\n\u001b[1;32m      1\u001b[0m \u001b[38;5;28;01mdef\u001b[39;00m\u001b[38;5;250m \u001b[39m\u001b[38;5;21m__tl_fnexp_l2c5\u001b[39m(x):\n\u001b[1;32m      2\u001b[0m     \u001b[38;5;28;01mreturn\u001b[39;00m \u001b[38;5;241m123\u001b[39m\n\u001b[0;32m----> 3\u001b[0m \u001b[43mdo\u001b[49m\u001b[43m(\u001b[49m\u001b[43m)\u001b[49m\u001b[43m(\u001b[49m\u001b[43m__tl_fnexp_l2c5\u001b[49m\u001b[43m)\u001b[49m\u001b[43m(\u001b[49m\u001b[38;5;241;43m1\u001b[39;49m\u001b[43m)\u001b[49m\n",
						"File \u001b[0;32m~/projects/koatl/koatl/python/koatl/prelude/functional.tl:17\u001b[0m, in \u001b[0;36m__tl_fnexp_l13c8\u001b[0;34m(*args, **kwargs)\u001b[0m\n\u001b[1;32m     15\u001b[0m try:\n\u001b[1;32m     16\u001b[0m     x = next(gen)\n\u001b[0;32m---> 17\u001b[0m     while True:\n\u001b[1;32m     18\u001b[0m         if x.(is_ok):\n\u001b[1;32m     19\u001b[0m             return x\n",
						"\u001b[0;31mTypeError\u001b[0m: 'int' object is not an iterator"
					]
				}
			],
			"source": [
				"throw()"
			]
		}
	],
	"metadata": {
		"kernelspec": {
			"display_name": "Koatl",
			"language": "koatl",
			"name": "koatl"
		},
		"language_info": {
			"file_extension": ".tl",
			"mimetype": "text/x-koatl",
			"name": "koatl"
		}
	},
	"nbformat": 4,
	"nbformat_minor": 5
}
