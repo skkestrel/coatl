{
 "cells": [
  {
   "cell_type": "code",
   "execution_count": 2,
   "id": "e1d48cca",
   "metadata": {},
   "outputs": [
    {
     "name": "stdout",
     "output_type": "stream",
     "text": [
      "coatl enabled\n"
     ]
    }
   ],
   "source": [
    "%load_ext coatl.notebook"
   ]
  },
  {
   "cell_type": "code",
   "execution_count": 3,
   "id": "254e7ff3",
   "metadata": {},
   "outputs": [
    {
     "data": {
      "text/plain": [
       "True"
      ]
     },
     "execution_count": 3,
     "metadata": {},
     "output_type": "execute_result"
    }
   ],
   "source": [
    "x = x => 2\n",
    "\n",
    "y = if x:\n",
    "    True\n",
    "else:\n",
    "    False\n",
    "\n",
    "y"
   ]
  }
 ],
 "metadata": {
  "kernelspec": {
   "display_name": "pyo3",
   "language": "python",
   "name": "python3"
  },
  "language_info": {
   "codemirror_mode": {
    "name": "ipython",
    "version": 3
   },
   "file_extension": ".py",
   "mimetype": "text/x-python",
   "name": "python",
   "nbconvert_exporter": "python",
   "pygments_lexer": "ipython3",
   "version": "3.12.3"
  }
 },
 "nbformat": 4,
 "nbformat_minor": 5
}
